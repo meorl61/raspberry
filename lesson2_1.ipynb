n=56
m=57.8
name='robert'
is_true= is_true

print(n,m,name,is_true)
