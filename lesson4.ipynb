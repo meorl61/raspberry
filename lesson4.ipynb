{
 "cells": [
  {
   "cell_type": "code",
   "execution_count": 34,
   "metadata": {},
   "outputs": [],
   "source": [
    "class Person(object):\n",
    "    def __init__(self,name,age=18,gender=\"Male\"):\n",
    "        self.name = name\n",
    "        self.age = age\n",
    "        self.gender = gender\n",
    "        #self.name = \"Bob\"\n",
    "        #self.age = 30\n",
    "        #self.gender = \"male\"\n",
    "    def description(self):\n",
    "        print(\"name:\",self.name)\n",
    "\n",
    "class Student(Person):\n",
    "    def __init__(self):\n",
    "        super().__init__(\"robert\",agent=20,gender=\"female\")     \n",
    "\n"
   ]
  },
  {
   "cell_type": "code",
   "execution_count": 14,
   "metadata": {},
   "outputs": [
    {
     "name": "stdout",
     "output_type": "stream",
     "text": [
      "joe 12 test\n"
     ]
    }
   ],
   "source": [
    "p1 = Person(\"joe\",12,\"test\") \n",
    "print(p1.name,p1.age,p1.gender)"
   ]
  },
  {
   "cell_type": "code",
   "execution_count": 15,
   "metadata": {},
   "outputs": [
    {
     "name": "stdout",
     "output_type": "stream",
     "text": [
      "mary 33 Female\n"
     ]
    }
   ],
   "source": [
    "p1 = Person(name=\"mary\",gender=\"Female\",age=33) #若有引數名稱, 可以不照順序填入\n",
    "print(p1.name,p1.age,p1.gender)\n"
   ]
  },
  {
   "cell_type": "code",
   "execution_count": 39,
   "metadata": {},
   "outputs": [
    {
     "name": "stdout",
     "output_type": "stream",
     "text": [
      "Name:  robert\n",
      "Age:  20\n",
      "Gender:  Fale\n"
     ]
    }
   ],
   "source": [
    "s2 = Student()\n",
    "s2.description()"
   ]
  },
  {
   "cell_type": "code",
   "execution_count": 64,
   "metadata": {},
   "outputs": [],
   "source": [
    "class Person(object):\n",
    "    def __init__(self,name,age=18,gender=\"Male\"):\n",
    "        #attribute\n",
    "        self.name = name\n",
    "        self.age = age\n",
    "        self.gender = gender\n",
    "\n",
    "    def description(self):\n",
    "        print(\"Name: \",self.name)\n",
    "        print(\"Age: \",self.age)\n",
    "        print(\"Gender: \",self.gender)\n",
    "\n",
    "class Student(Person):\n",
    "    def __init__(self,name,**kwargs):  #沒有限定數量的引數呼叫\n",
    "        super().__init__(name,**kwargs)\n",
    "        "
   ]
  },
  {
   "cell_type": "code",
   "execution_count": 67,
   "metadata": {},
   "outputs": [
    {
     "name": "stdout",
     "output_type": "stream",
     "text": [
      "Name:  aaa\n",
      "Age:  18\n",
      "Gender:  Male\n"
     ]
    }
   ],
   "source": [
    "s2 = Student(\"aaa\",age=18,gender=\"Male\")\n",
    "s2.description()"
   ]
  }
 ],
 "metadata": {
  "kernelspec": {
   "display_name": "Python 3",
   "language": "python",
   "name": "python3"
  },
  "language_info": {
   "codemirror_mode": {
    "name": "ipython",
    "version": 3
   },
   "file_extension": ".py",
   "mimetype": "text/x-python",
   "name": "python",
   "nbconvert_exporter": "python",
   "pygments_lexer": "ipython3",
   "version": "3.9.2"
  },
  "orig_nbformat": 4
 },
 "nbformat": 4,
 "nbformat_minor": 2
}
